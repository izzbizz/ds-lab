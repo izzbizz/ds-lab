{
 "cells": [
  {
   "cell_type": "code",
   "execution_count": 1,
   "metadata": {
    "colab": {
     "base_uri": "https://localhost:8080/",
     "height": 72
    },
    "colab_type": "code",
    "id": "l9Rtw5VFmb-R",
    "outputId": "32dc886a-6bb9-4a0e-cb0e-262d56509065"
   },
   "outputs": [],
   "source": [
    "import pandas as pd\n",
    "import seaborn as sns\n",
    "import matplotlib.pyplot as plt\n",
    "import seaborn as sns\n",
    "import numpy as np\n",
    "\n",
    "pd.set_option('display.max_columns', 200)\n",
    "pd.set_option('display.max_rows', 200)\n",
    "%matplotlib inline"
   ]
  },
  {
   "cell_type": "code",
   "execution_count": 2,
   "metadata": {
    "colab": {
     "base_uri": "https://localhost:8080/",
     "height": 124
    },
    "colab_type": "code",
    "id": "W5jDI31muuyX",
    "outputId": "17af1bed-9c7a-4980-8c63-017ba043ac51"
   },
   "outputs": [],
   "source": [
    "#from google.colab import drive\n",
    "\n",
    "#drive.mount('/content/drive')"
   ]
  },
  {
   "cell_type": "markdown",
   "metadata": {
    "colab_type": "text",
    "id": "tSb0ZsGM_1Al"
   },
   "source": [
    "## Loading data frame"
   ]
  },
  {
   "cell_type": "code",
   "execution_count": 3,
   "metadata": {
    "colab": {
     "base_uri": "https://localhost:8080/",
     "height": 72
    },
    "colab_type": "code",
    "id": "PrhRVNT-u0IZ",
    "outputId": "055750c4-e7f6-4ad7-bd1e-827360722721"
   },
   "outputs": [],
   "source": [
    "#isabelles data path:\n",
    "# data_path = '/content/drive/My Drive/Colab Notebooks/cars_files/'\n",
    "#isabelles data load\n",
    "# df = pd.read_csv(data_path + 'copy_sample.csv', parse_dates=['TEST_SDATE', 'TEST_EDATE'], lineterminator='\\n')"
   ]
  },
  {
   "cell_type": "code",
   "execution_count": 4,
   "metadata": {},
   "outputs": [
    {
     "name": "stderr",
     "output_type": "stream",
     "text": [
      "C:\\Users\\Caitlin\\AppData\\Roaming\\Python\\Python37\\site-packages\\IPython\\core\\interactiveshell.py:3051: DtypeWarning: Columns (5,7,18,26,108,109,113) have mixed types. Specify dtype option on import or set low_memory=False.\n",
      "  interactivity=interactivity, compiler=compiler, result=result)\n"
     ]
    }
   ],
   "source": [
    "# caitlin's local file path\n",
    "data_path = 'C:/Users/Caitlin/Documents/DataScience/WIMLDS/cleaned/'\n",
    "df = pd.read_csv(data_path + 'sample.csv', parse_dates=['TEST_SDATE','TEST_EDATE'], lineterminator='\\n')"
   ]
  },
  {
   "cell_type": "markdown",
   "metadata": {
    "colab_type": "text",
    "id": "pg5z-MC8AEq4"
   },
   "source": [
    "\n",
    "## Target variable, reduce"
   ]
  },
  {
   "cell_type": "code",
   "execution_count": 5,
   "metadata": {},
   "outputs": [
    {
     "data": {
      "text/plain": [
       "['RecordID',\n",
       " 'RECORD_NUM',\n",
       " 'VIR_CERT_NUMBER',\n",
       " 'STATION_NUM',\n",
       " 'ANALYZER_NUM',\n",
       " 'INSPECTOR_NUM',\n",
       " 'TEST_TYPE',\n",
       " 'VID_TEST_TYPE',\n",
       " 'TEST_SDATE',\n",
       " 'TEST_EDATE',\n",
       " 'VIN',\n",
       " 'VIN_SOURCE',\n",
       " 'VEH_LICENSE',\n",
       " 'GVW_TYPE',\n",
       " 'GVWR',\n",
       " 'MODEL_YEAR',\n",
       " 'MAKE',\n",
       " 'MODEL',\n",
       " 'CYL',\n",
       " 'ENGINE_SIZE',\n",
       " 'TRANS_TYPE',\n",
       " 'DUAL_EXHAUST',\n",
       " 'ODOMETER',\n",
       " 'FUEL_TYPE',\n",
       " 'VEHICLE_TYPE',\n",
       " 'EMISS_COST',\n",
       " 'ZIP_CODE',\n",
       " 'CERTIFICATION',\n",
       " 'ESC',\n",
       " 'VRT_RECORD_ID',\n",
       " 'E_TEST_SEQUENCE',\n",
       " 'E_PRECOND_PROCEDURE',\n",
       " 'E_HIGH_DCF',\n",
       " 'E_HIGH_RPM',\n",
       " 'E_HIGH_CO2',\n",
       " 'E_HIGH_O2',\n",
       " 'E_HIGH_HC',\n",
       " 'E_HIGH_HC_DCF',\n",
       " 'E_HIGH_HC_LIMIT',\n",
       " 'E_HIGH_CO',\n",
       " 'E_HIGH_CO_DCF',\n",
       " 'E_HIGH_CO_LIMIT',\n",
       " 'E_IDLE_DCF',\n",
       " 'E_IDLE_RPM',\n",
       " 'E_IDLE_CO2',\n",
       " 'E_IDLE_O2',\n",
       " 'E_IDLE_HC',\n",
       " 'E_IDLE_HC_DCF',\n",
       " 'E_IDLE_HC_LIMIT',\n",
       " 'E_IDLE_CO',\n",
       " 'E_IDLE_CO_DCF',\n",
       " 'E_IDLE_CO_LIMIT',\n",
       " 'E_HIGH_DCF_2',\n",
       " 'E_HIGH_RPM_2',\n",
       " 'E_HIGH_CO2_2',\n",
       " 'E_HIGH_O2_2',\n",
       " 'E_HIGH_HC_2',\n",
       " 'E_HIGH_HC_DCF_2',\n",
       " 'E_HIGH_CO_2',\n",
       " 'E_HIGH_CO_DCF_2',\n",
       " 'E_IDLE_DCF_2',\n",
       " 'E_IDLE_RPM_2',\n",
       " 'E_IDLE_CO2_2',\n",
       " 'E_IDLE_O2_2',\n",
       " 'E_IDLE_HC_2',\n",
       " 'E_IDLE_HC_DCF_2',\n",
       " 'E_IDLE_CO_2',\n",
       " 'E_IDLE_CO_DCF_2',\n",
       " 'E_RESULT_STRING',\n",
       " 'V_SMOKE1',\n",
       " 'V_SMOKE2',\n",
       " 'V_GASCAP',\n",
       " 'V_CAT',\n",
       " 'V_RESULT',\n",
       " 'KOEO_RESULT',\n",
       " 'KOER_RESULT',\n",
       " 'OBD_RDY_MISFIRE',\n",
       " 'OBD_RDY_FUEL',\n",
       " 'OBD_RDY_COMPONENT',\n",
       " 'OBD_RDY_CAT',\n",
       " 'OBD_RDY_CAT_HEATED',\n",
       " 'OBD_RDY_EVAP',\n",
       " 'OBD_RDY_SEC_AIR',\n",
       " 'OBD_RDY_AIR_COND',\n",
       " 'OBD_RDY_O2_SENSOR',\n",
       " 'OBD_RDY_O2_HEATER',\n",
       " 'OBD_RDY_EGR',\n",
       " 'OBD_RDY_RESULT',\n",
       " 'OBD_PID',\n",
       " 'OBD_PCM_ID',\n",
       " 'OBD_VIN',\n",
       " 'OBD_FLT_CODES',\n",
       " 'OBD_FLT_RESULT',\n",
       " 'OBD_MIL_STATUS',\n",
       " 'OBD_RESULT',\n",
       " 'ONLINE_STATUS',\n",
       " 'OFFLINE_REASON_CODE',\n",
       " 'ABORT_CODE',\n",
       " 'SOFTWARE_VERSION',\n",
       " 'INSP_COMMENTS',\n",
       " 'OVERALL_RESULT',\n",
       " 'R_TOTAL_COST',\n",
       " 'R_EGR',\n",
       " 'R_ELECTRICAL',\n",
       " 'R_EVAP_CONTROL',\n",
       " 'R_EXHAUST',\n",
       " 'R_IGNITION',\n",
       " 'R_INTAKE',\n",
       " 'R_ENGINE',\n",
       " 'R_PCV',\n",
       " 'R_OTHER',\n",
       " 'SentToWW',\n",
       " 'ABORT_CODE_OTHER_DESC',\n",
       " 'OBDII_AFFECT_OVERALL',\n",
       " 'E_HIGH_CO_RESULT',\n",
       " 'E_HIGH_HC_RESULT',\n",
       " 'E_IDLE_CO_RESULT',\n",
       " 'E_IDLE_HC_RESULT',\n",
       " 'MECHANIC_LAST_NAME',\n",
       " 'MECHANIC_FIRST_NAME',\n",
       " 'MECHANIC_MIDDLE_INIT',\n",
       " 'ENGINE_SIZE_ORIG',\n",
       " 'FAILED_IDLE_RPM',\n",
       " 'SENTTOVID',\n",
       " 'Station_License_Number',\n",
       " 'Analyzer_Number',\n",
       " 'Insert_DateTime\\r']"
      ]
     },
     "execution_count": 5,
     "metadata": {},
     "output_type": "execute_result"
    }
   ],
   "source": [
    "list(df)"
   ]
  },
  {
   "cell_type": "code",
   "execution_count": 6,
   "metadata": {
    "colab": {},
    "colab_type": "code",
    "id": "jzt7adYbf2Nm"
   },
   "outputs": [],
   "source": [
    "keep_cols = ['VIR_CERT_NUMBER', 'STATION_NUM', 'ANALYZER_NUM', 'INSPECTOR_NUM', 'TEST_SDATE', 'TEST_EDATE', 'VIN', 'VIN_SOURCE',\n",
    "             'VEH_LICENSE', 'GVW_TYPE', 'GVWR', 'MODEL_YEAR', 'MAKE', 'MODEL', 'CYL', 'ENGINE_SIZE', 'TRANS_TYPE', \n",
    "             'DUAL_EXHAUST', 'ODOMETER', 'FUEL_TYPE', 'VEHICLE_TYPE', 'ZIP_CODE', 'CERTIFICATION', 'ESC', 'VRT_RECORD_ID', \n",
    "             'ABORT_CODE', 'SOFTWARE_VERSION', 'INSP_COMMENTS', 'OVERALL_RESULT', 'ABORT_CODE_OTHER_DESC', 'MECHANIC_LAST_NAME',\n",
    "             'MECHANIC_FIRST_NAME', 'MECHANIC_MIDDLE_INIT', 'ENGINE_SIZE_ORIG', 'VID_TEST_TYPE']\n",
    "\n",
    "df = df[keep_cols]"
   ]
  },
  {
   "cell_type": "code",
   "execution_count": 7,
   "metadata": {
    "colab": {
     "base_uri": "https://localhost:8080/",
     "height": 295
    },
    "colab_type": "code",
    "id": "7fzHRkiHw2CJ",
    "outputId": "23f41141-d1cc-4877-a10b-81d0d8352f50"
   },
   "outputs": [
    {
     "data": {
      "text/plain": [
       "<matplotlib.axes._subplots.AxesSubplot at 0x9555e15188>"
      ]
     },
     "execution_count": 7,
     "metadata": {},
     "output_type": "execute_result"
    },
    {
     "data": {
      "image/png": "[encoded data removed]",
      "text/plain": [
       "<Figure size 432x288 with 1 Axes>"
      ]
     },
     "metadata": {
      "needs_background": "light"
     },
     "output_type": "display_data"
    }
   ],
   "source": [
    "df.groupby('OVERALL_RESULT').size().plot.bar()"
   ]
  },
  {
   "cell_type": "code",
   "execution_count": 8,
   "metadata": {},
   "outputs": [
    {
     "data": {
      "text/plain": [
       "P    316732\n",
       "F     30051\n",
       "A     28701\n",
       "O        10\n",
       "I         9\n",
       "Name: OVERALL_RESULT, dtype: int64"
      ]
     },
     "execution_count": 8,
     "metadata": {},
     "output_type": "execute_result"
    }
   ],
   "source": [
    "df.OVERALL_RESULT.value_counts()"
   ]
  },
  {
   "cell_type": "code",
   "execution_count": 9,
   "metadata": {
    "colab": {},
    "colab_type": "code",
    "id": "hCx2-y68w_YO"
   },
   "outputs": [],
   "source": [
    "#df = df[df.OVERALL_RESULT.isin(['P', 'F', 'A'])]"
   ]
  },
  {
   "cell_type": "markdown",
   "metadata": {},
   "source": [
    "##### Select only pass & fail"
   ]
  },
  {
   "cell_type": "code",
   "execution_count": 10,
   "metadata": {},
   "outputs": [],
   "source": [
    "df = df[(df.OVERALL_RESULT == 'P')|(df.OVERALL_RESULT=='F')]"
   ]
  },
  {
   "cell_type": "markdown",
   "metadata": {},
   "source": [
    "##### Create age variable"
   ]
  },
  {
   "cell_type": "code",
   "execution_count": 11,
   "metadata": {},
   "outputs": [],
   "source": [
    "df['AGE'] = pd.to_datetime(df[\"TEST_EDATE\"]).dt.year - df[\"MODEL_YEAR\"]"
   ]
  },
  {
   "cell_type": "code",
   "execution_count": 12,
   "metadata": {},
   "outputs": [],
   "source": [
    "df['AGE'] += 1"
   ]
  },
  {
   "cell_type": "code",
   "execution_count": 13,
   "metadata": {},
   "outputs": [
    {
     "data": {
      "text/plain": [
       "<matplotlib.axes._subplots.AxesSubplot at 0x953c605688>"
      ]
     },
     "execution_count": 13,
     "metadata": {},
     "output_type": "execute_result"
    },
    {
     "data": {
      "image/png": "[encoded data removed]",
      "text/plain": [
       "<Figure size 1008x432 with 1 Axes>"
      ]
     },
     "metadata": {
      "needs_background": "light"
     },
     "output_type": "display_data"
    }
   ],
   "source": [
    "# Age distribution\n",
    "#fig, ax = plt.subplots(figsize=(14,6))\n",
    "#df.groupby('AGE').size().plot.bar()"
   ]
  },
  {
   "cell_type": "markdown",
   "metadata": {},
   "source": [
    "## Checkout VINs"
   ]
  },
  {
   "cell_type": "code",
   "execution_count": 14,
   "metadata": {},
   "outputs": [
    {
     "data": {
      "text/plain": [
       "127791"
      ]
     },
     "execution_count": 14,
     "metadata": {},
     "output_type": "execute_result"
    }
   ],
   "source": [
    "len(df.VIN.unique())"
   ]
  },
  {
   "cell_type": "code",
   "execution_count": 15,
   "metadata": {},
   "outputs": [
    {
     "data": {
      "text/plain": [
       "346783"
      ]
     },
     "execution_count": 15,
     "metadata": {},
     "output_type": "execute_result"
    }
   ],
   "source": [
    "len(df)"
   ]
  },
  {
   "cell_type": "code",
   "execution_count": 22,
   "metadata": {},
   "outputs": [
    {
     "name": "stdout",
     "output_type": "stream",
     "text": [
      "Out of 346783 entries in the system, 218992, or 63.14957768979448% are in there more than once.\n"
     ]
    }
   ],
   "source": [
    "print(f'Out of {len(df)} entries in the system, {len(df)-len(df.VIN.unique())}, or {(len(df)-len(df.VIN.unique()))/len(df) *100}% are in there more than once.')"
   ]
  },
  {
   "cell_type": "markdown",
   "metadata": {},
   "source": [
    "### To do\n",
    "\n",
    "#### Compare the number of times the car has been tested with the age of the car\n",
    "\n",
    "#### Compare the number of times the car has been tested with Pass/Fail"
   ]
  },
  {
   "cell_type": "code",
   "execution_count": 23,
   "metadata": {},
   "outputs": [],
   "source": [
    "df['NUM_VISITS'] = df.VIN.groupby(df.VIN).transform('count')"
   ]
  },
  {
   "cell_type": "code",
   "execution_count": null,
   "metadata": {},
   "outputs": [],
   "source": []
  },
  {
   "cell_type": "code",
   "execution_count": 24,
   "metadata": {},
   "outputs": [
    {
     "data": {
      "text/plain": [
       "(294484, 52299)"
      ]
     },
     "execution_count": 24,
     "metadata": {},
     "output_type": "execute_result"
    }
   ],
   "source": [
    "len(df[df['NUM_VISITS']>1]), len(df[df['NUM_VISITS']==1])"
   ]
  },
  {
   "cell_type": "code",
   "execution_count": 79,
   "metadata": {},
   "outputs": [],
   "source": [
    "# get number of pass/fail for each car\n",
    "# df['NUM_PASS'] = df.VIN.groupby(df.VIN, df.OVERALL_RESULT=='P').transform('count'))"
   ]
  },
  {
   "cell_type": "code",
   "execution_count": 25,
   "metadata": {},
   "outputs": [],
   "source": [
    "test = df.groupby('VIN')['OVERALL_RESULT'].value_counts().unstack().fillna(0)"
   ]
  },
  {
   "cell_type": "code",
   "execution_count": 26,
   "metadata": {},
   "outputs": [
    {
     "data": {
      "text/html": [
       "<div>\n",
       "<style scoped>\n",
       "    .dataframe tbody tr th:only-of-type {\n",
       "        vertical-align: middle;\n",
       "    }\n",
       "\n",
       "    .dataframe tbody tr th {\n",
       "        vertical-align: top;\n",
       "    }\n",
       "\n",
       "    .dataframe thead th {\n",
       "        text-align: right;\n",
       "    }\n",
       "</style>\n",
       "<table border=\"1\" class=\"dataframe\">\n",
       "  <thead>\n",
       "    <tr style=\"text-align: right;\">\n",
       "      <th>OVERALL_RESULT</th>\n",
       "      <th>F</th>\n",
       "      <th>P</th>\n",
       "    </tr>\n",
       "    <tr>\n",
       "      <th>VIN</th>\n",
       "      <th></th>\n",
       "      <th></th>\n",
       "    </tr>\n",
       "  </thead>\n",
       "  <tbody>\n",
       "    <tr>\n",
       "      <th>0F1AC4222PB200660</th>\n",
       "      <td>0.0</td>\n",
       "      <td>1.0</td>\n",
       "    </tr>\n",
       "    <tr>\n",
       "      <th>0FMCU93158KD84024</th>\n",
       "      <td>0.0</td>\n",
       "      <td>1.0</td>\n",
       "    </tr>\n",
       "    <tr>\n",
       "      <th>0N1BC11E69L466681</th>\n",
       "      <td>0.0</td>\n",
       "      <td>1.0</td>\n",
       "    </tr>\n",
       "    <tr>\n",
       "      <th>0N8AR05SXVW181282</th>\n",
       "      <td>0.0</td>\n",
       "      <td>1.0</td>\n",
       "    </tr>\n",
       "    <tr>\n",
       "      <th>0S4BP62C377301194</th>\n",
       "      <td>0.0</td>\n",
       "      <td>1.0</td>\n",
       "    </tr>\n",
       "  </tbody>\n",
       "</table>\n",
       "</div>"
      ],
      "text/plain": [
       "OVERALL_RESULT       F    P\n",
       "VIN                        \n",
       "0F1AC4222PB200660  0.0  1.0\n",
       "0FMCU93158KD84024  0.0  1.0\n",
       "0N1BC11E69L466681  0.0  1.0\n",
       "0N8AR05SXVW181282  0.0  1.0\n",
       "0S4BP62C377301194  0.0  1.0"
      ]
     },
     "execution_count": 26,
     "metadata": {},
     "output_type": "execute_result"
    }
   ],
   "source": [
    "test.head()"
   ]
  },
  {
   "cell_type": "code",
   "execution_count": 27,
   "metadata": {},
   "outputs": [],
   "source": [
    "test2= test.reset_index()"
   ]
  },
  {
   "cell_type": "code",
   "execution_count": 28,
   "metadata": {},
   "outputs": [
    {
     "data": {
      "text/html": [
       "<div>\n",
       "<style scoped>\n",
       "    .dataframe tbody tr th:only-of-type {\n",
       "        vertical-align: middle;\n",
       "    }\n",
       "\n",
       "    .dataframe tbody tr th {\n",
       "        vertical-align: top;\n",
       "    }\n",
       "\n",
       "    .dataframe thead th {\n",
       "        text-align: right;\n",
       "    }\n",
       "</style>\n",
       "<table border=\"1\" class=\"dataframe\">\n",
       "  <thead>\n",
       "    <tr style=\"text-align: right;\">\n",
       "      <th>OVERALL_RESULT</th>\n",
       "      <th>VIN</th>\n",
       "      <th>F</th>\n",
       "      <th>P</th>\n",
       "    </tr>\n",
       "  </thead>\n",
       "  <tbody>\n",
       "    <tr>\n",
       "      <th>0</th>\n",
       "      <td>0F1AC4222PB200660</td>\n",
       "      <td>0.0</td>\n",
       "      <td>1.0</td>\n",
       "    </tr>\n",
       "    <tr>\n",
       "      <th>1</th>\n",
       "      <td>0FMCU93158KD84024</td>\n",
       "      <td>0.0</td>\n",
       "      <td>1.0</td>\n",
       "    </tr>\n",
       "    <tr>\n",
       "      <th>2</th>\n",
       "      <td>0N1BC11E69L466681</td>\n",
       "      <td>0.0</td>\n",
       "      <td>1.0</td>\n",
       "    </tr>\n",
       "    <tr>\n",
       "      <th>3</th>\n",
       "      <td>0N8AR05SXVW181282</td>\n",
       "      <td>0.0</td>\n",
       "      <td>1.0</td>\n",
       "    </tr>\n",
       "    <tr>\n",
       "      <th>4</th>\n",
       "      <td>0S4BP62C377301194</td>\n",
       "      <td>0.0</td>\n",
       "      <td>1.0</td>\n",
       "    </tr>\n",
       "    <tr>\n",
       "      <th>...</th>\n",
       "      <td>...</td>\n",
       "      <td>...</td>\n",
       "      <td>...</td>\n",
       "    </tr>\n",
       "    <tr>\n",
       "      <th>127786</th>\n",
       "      <td>ZFFYR51A3X0116639</td>\n",
       "      <td>3.0</td>\n",
       "      <td>0.0</td>\n",
       "    </tr>\n",
       "    <tr>\n",
       "      <th>127787</th>\n",
       "      <td>ZFFYR51R9X0118072</td>\n",
       "      <td>1.0</td>\n",
       "      <td>0.0</td>\n",
       "    </tr>\n",
       "    <tr>\n",
       "      <th>127788</th>\n",
       "      <td>ZFFYT53A310122964</td>\n",
       "      <td>0.0</td>\n",
       "      <td>2.0</td>\n",
       "    </tr>\n",
       "    <tr>\n",
       "      <th>127789</th>\n",
       "      <td>ZHWGU12T36LA03105</td>\n",
       "      <td>1.0</td>\n",
       "      <td>5.0</td>\n",
       "    </tr>\n",
       "    <tr>\n",
       "      <th>127790</th>\n",
       "      <td>ZHWGU22T58LA06080</td>\n",
       "      <td>0.0</td>\n",
       "      <td>3.0</td>\n",
       "    </tr>\n",
       "  </tbody>\n",
       "</table>\n",
       "<p>127791 rows × 3 columns</p>\n",
       "</div>"
      ],
      "text/plain": [
       "OVERALL_RESULT                VIN    F    P\n",
       "0               0F1AC4222PB200660  0.0  1.0\n",
       "1               0FMCU93158KD84024  0.0  1.0\n",
       "2               0N1BC11E69L466681  0.0  1.0\n",
       "3               0N8AR05SXVW181282  0.0  1.0\n",
       "4               0S4BP62C377301194  0.0  1.0\n",
       "...                           ...  ...  ...\n",
       "127786          ZFFYR51A3X0116639  3.0  0.0\n",
       "127787          ZFFYR51R9X0118072  1.0  0.0\n",
       "127788          ZFFYT53A310122964  0.0  2.0\n",
       "127789          ZHWGU12T36LA03105  1.0  5.0\n",
       "127790          ZHWGU22T58LA06080  0.0  3.0\n",
       "\n",
       "[127791 rows x 3 columns]"
      ]
     },
     "execution_count": 28,
     "metadata": {},
     "output_type": "execute_result"
    }
   ],
   "source": [
    "test2"
   ]
  },
  {
   "cell_type": "code",
   "execution_count": 29,
   "metadata": {},
   "outputs": [],
   "source": [
    "df2 = pd.merge(df,test2, on='VIN')"
   ]
  },
  {
   "cell_type": "code",
   "execution_count": 30,
   "metadata": {},
   "outputs": [],
   "source": [
    "df2=df2.rename(columns=({'F':'NUM_FAIL', 'P':'NUM_PASS'}))"
   ]
  },
  {
   "cell_type": "code",
   "execution_count": 31,
   "metadata": {},
   "outputs": [
    {
     "data": {
      "text/plain": [
       "346783"
      ]
     },
     "execution_count": 31,
     "metadata": {},
     "output_type": "execute_result"
    }
   ],
   "source": [
    "len(df2)"
   ]
  },
  {
   "cell_type": "code",
   "execution_count": 32,
   "metadata": {},
   "outputs": [],
   "source": [
    "# will keep 1 copy from the duplicates that are there. It keeps the last one that it finds.\n",
    "# would be more informative to first sort the dataframe by VIN & NUM_VISITS, and have it \n",
    "# keep the last entry for each car.\n",
    "df2 = df2.sort_values(by=['VIN', 'NUM_VISITS'])"
   ]
  },
  {
   "cell_type": "code",
   "execution_count": 33,
   "metadata": {},
   "outputs": [],
   "source": [
    "df3=df2.drop_duplicates('VIN', keep='last')"
   ]
  },
  {
   "cell_type": "code",
   "execution_count": 34,
   "metadata": {},
   "outputs": [
    {
     "data": {
      "text/html": [
       "<div>\n",
       "<style scoped>\n",
       "    .dataframe tbody tr th:only-of-type {\n",
       "        vertical-align: middle;\n",
       "    }\n",
       "\n",
       "    .dataframe tbody tr th {\n",
       "        vertical-align: top;\n",
       "    }\n",
       "\n",
       "    .dataframe thead th {\n",
       "        text-align: right;\n",
       "    }\n",
       "</style>\n",
       "<table border=\"1\" class=\"dataframe\">\n",
       "  <thead>\n",
       "    <tr style=\"text-align: right;\">\n",
       "      <th></th>\n",
       "      <th>VIR_CERT_NUMBER</th>\n",
       "      <th>STATION_NUM</th>\n",
       "      <th>ANALYZER_NUM</th>\n",
       "      <th>INSPECTOR_NUM</th>\n",
       "      <th>TEST_SDATE</th>\n",
       "      <th>TEST_EDATE</th>\n",
       "      <th>VIN</th>\n",
       "      <th>VIN_SOURCE</th>\n",
       "      <th>VEH_LICENSE</th>\n",
       "      <th>GVW_TYPE</th>\n",
       "      <th>GVWR</th>\n",
       "      <th>MODEL_YEAR</th>\n",
       "      <th>MAKE</th>\n",
       "      <th>MODEL</th>\n",
       "      <th>CYL</th>\n",
       "      <th>ENGINE_SIZE</th>\n",
       "      <th>TRANS_TYPE</th>\n",
       "      <th>DUAL_EXHAUST</th>\n",
       "      <th>ODOMETER</th>\n",
       "      <th>FUEL_TYPE</th>\n",
       "      <th>VEHICLE_TYPE</th>\n",
       "      <th>ZIP_CODE</th>\n",
       "      <th>CERTIFICATION</th>\n",
       "      <th>ESC</th>\n",
       "      <th>VRT_RECORD_ID</th>\n",
       "      <th>ABORT_CODE</th>\n",
       "      <th>SOFTWARE_VERSION</th>\n",
       "      <th>INSP_COMMENTS</th>\n",
       "      <th>OVERALL_RESULT</th>\n",
       "      <th>ABORT_CODE_OTHER_DESC</th>\n",
       "      <th>MECHANIC_LAST_NAME</th>\n",
       "      <th>MECHANIC_FIRST_NAME</th>\n",
       "      <th>MECHANIC_MIDDLE_INIT</th>\n",
       "      <th>ENGINE_SIZE_ORIG</th>\n",
       "      <th>VID_TEST_TYPE</th>\n",
       "      <th>AGE</th>\n",
       "      <th>NUM_VISITS</th>\n",
       "      <th>NUM_FAIL</th>\n",
       "      <th>NUM_PASS</th>\n",
       "    </tr>\n",
       "  </thead>\n",
       "  <tbody>\n",
       "    <tr>\n",
       "      <th>99859</th>\n",
       "      <td>5053210.0</td>\n",
       "      <td>IR277</td>\n",
       "      <td>W094</td>\n",
       "      <td>2627911</td>\n",
       "      <td>2006-11-29 07:49:00</td>\n",
       "      <td>2006-11-29 07:55:00</td>\n",
       "      <td>0F1AC4222PB200660</td>\n",
       "      <td>S</td>\n",
       "      <td>HNX846</td>\n",
       "      <td>1.0</td>\n",
       "      <td>3000</td>\n",
       "      <td>1993</td>\n",
       "      <td>SUBARU</td>\n",
       "      <td>LOYALE</td>\n",
       "      <td>4</td>\n",
       "      <td>1800</td>\n",
       "      <td>M</td>\n",
       "      <td>N</td>\n",
       "      <td>128300</td>\n",
       "      <td>G</td>\n",
       "      <td>1</td>\n",
       "      <td>87102</td>\n",
       "      <td>F</td>\n",
       "      <td>5.0</td>\n",
       "      <td>930227</td>\n",
       "      <td>NaN</td>\n",
       "      <td>158</td>\n",
       "      <td>NaN</td>\n",
       "      <td>P</td>\n",
       "      <td>NaN</td>\n",
       "      <td>TRUDEN</td>\n",
       "      <td>LOUIS</td>\n",
       "      <td>A</td>\n",
       "      <td>NaN</td>\n",
       "      <td>I</td>\n",
       "      <td>14</td>\n",
       "      <td>1</td>\n",
       "      <td>0.0</td>\n",
       "      <td>1.0</td>\n",
       "    </tr>\n",
       "    <tr>\n",
       "      <th>313048</th>\n",
       "      <td>7610529.0</td>\n",
       "      <td>IS407</td>\n",
       "      <td>W102</td>\n",
       "      <td>AC083899</td>\n",
       "      <td>2016-05-22 13:14:00</td>\n",
       "      <td>2016-05-22 13:15:00</td>\n",
       "      <td>0FMCU93158KD84024</td>\n",
       "      <td>S</td>\n",
       "      <td>MYK742</td>\n",
       "      <td>1.0</td>\n",
       "      <td>3375</td>\n",
       "      <td>2008</td>\n",
       "      <td>FORD</td>\n",
       "      <td>ESCAPE</td>\n",
       "      <td>6</td>\n",
       "      <td>3000</td>\n",
       "      <td>A</td>\n",
       "      <td>N</td>\n",
       "      <td>112414</td>\n",
       "      <td>G</td>\n",
       "      <td>4</td>\n",
       "      <td>87111</td>\n",
       "      <td>C</td>\n",
       "      <td>20.0</td>\n",
       "      <td>0</td>\n",
       "      <td>NaN</td>\n",
       "      <td>503</td>\n",
       "      <td>NaN</td>\n",
       "      <td>P</td>\n",
       "      <td>NaN</td>\n",
       "      <td>Lee</td>\n",
       "      <td>William</td>\n",
       "      <td>D</td>\n",
       "      <td>NaN</td>\n",
       "      <td>I</td>\n",
       "      <td>9</td>\n",
       "      <td>1</td>\n",
       "      <td>0.0</td>\n",
       "      <td>1.0</td>\n",
       "    </tr>\n",
       "    <tr>\n",
       "      <th>318309</th>\n",
       "      <td>7740581.0</td>\n",
       "      <td>IS498</td>\n",
       "      <td>W028</td>\n",
       "      <td>AC084941</td>\n",
       "      <td>2016-10-29 15:30:00</td>\n",
       "      <td>2016-10-29 15:31:00</td>\n",
       "      <td>0N1BC11E69L466681</td>\n",
       "      <td>S</td>\n",
       "      <td>LBX368</td>\n",
       "      <td>1.0</td>\n",
       "      <td>0</td>\n",
       "      <td>2009</td>\n",
       "      <td>NISSAN</td>\n",
       "      <td>VERSA</td>\n",
       "      <td>4</td>\n",
       "      <td>1800</td>\n",
       "      <td>A</td>\n",
       "      <td>N</td>\n",
       "      <td>122304</td>\n",
       "      <td>G</td>\n",
       "      <td>1</td>\n",
       "      <td>87121</td>\n",
       "      <td>C</td>\n",
       "      <td>6.0</td>\n",
       "      <td>0</td>\n",
       "      <td>NaN</td>\n",
       "      <td>503</td>\n",
       "      <td>NaN</td>\n",
       "      <td>P</td>\n",
       "      <td>NaN</td>\n",
       "      <td>BUTTERWORTH</td>\n",
       "      <td>QUENTIN</td>\n",
       "      <td>R</td>\n",
       "      <td>1.8L</td>\n",
       "      <td>I</td>\n",
       "      <td>8</td>\n",
       "      <td>1</td>\n",
       "      <td>0.0</td>\n",
       "      <td>1.0</td>\n",
       "    </tr>\n",
       "    <tr>\n",
       "      <th>45063</th>\n",
       "      <td>4604724.0</td>\n",
       "      <td>IS212</td>\n",
       "      <td>W111</td>\n",
       "      <td>33191251</td>\n",
       "      <td>2005-05-20 16:13:00</td>\n",
       "      <td>2005-05-20 16:19:00</td>\n",
       "      <td>0N8AR05SXVW181282</td>\n",
       "      <td>S</td>\n",
       "      <td>153JWZ</td>\n",
       "      <td>1.0</td>\n",
       "      <td>4850</td>\n",
       "      <td>1997</td>\n",
       "      <td>NISSAN</td>\n",
       "      <td>PATHFINDER</td>\n",
       "      <td>6</td>\n",
       "      <td>3300</td>\n",
       "      <td>A</td>\n",
       "      <td>N</td>\n",
       "      <td>90478</td>\n",
       "      <td>G</td>\n",
       "      <td>4</td>\n",
       "      <td>87112</td>\n",
       "      <td>F</td>\n",
       "      <td>20.0</td>\n",
       "      <td>970357</td>\n",
       "      <td>NaN</td>\n",
       "      <td>147</td>\n",
       "      <td>NaN</td>\n",
       "      <td>P</td>\n",
       "      <td>NaN</td>\n",
       "      <td>CROWSON</td>\n",
       "      <td>GARY</td>\n",
       "      <td>L</td>\n",
       "      <td>NaN</td>\n",
       "      <td>I</td>\n",
       "      <td>9</td>\n",
       "      <td>1</td>\n",
       "      <td>0.0</td>\n",
       "      <td>1.0</td>\n",
       "    </tr>\n",
       "    <tr>\n",
       "      <th>271567</th>\n",
       "      <td>6973938.0</td>\n",
       "      <td>IS364</td>\n",
       "      <td>W061</td>\n",
       "      <td>AC084367</td>\n",
       "      <td>2013-07-13 15:03:00</td>\n",
       "      <td>2013-07-13 15:05:00</td>\n",
       "      <td>0S4BP62C377301194</td>\n",
       "      <td>S</td>\n",
       "      <td>LBP806</td>\n",
       "      <td>1.0</td>\n",
       "      <td>3875</td>\n",
       "      <td>2007</td>\n",
       "      <td>SUBARU</td>\n",
       "      <td>OUTBACK</td>\n",
       "      <td>4</td>\n",
       "      <td>2500</td>\n",
       "      <td>A</td>\n",
       "      <td>N</td>\n",
       "      <td>93475</td>\n",
       "      <td>G</td>\n",
       "      <td>2</td>\n",
       "      <td>87114</td>\n",
       "      <td>C</td>\n",
       "      <td>6.0</td>\n",
       "      <td>0</td>\n",
       "      <td>NaN</td>\n",
       "      <td>501</td>\n",
       "      <td>NaN</td>\n",
       "      <td>P</td>\n",
       "      <td>NaN</td>\n",
       "      <td>Ewing</td>\n",
       "      <td>Anthony</td>\n",
       "      <td>M</td>\n",
       "      <td>NaN</td>\n",
       "      <td>I</td>\n",
       "      <td>7</td>\n",
       "      <td>1</td>\n",
       "      <td>0.0</td>\n",
       "      <td>1.0</td>\n",
       "    </tr>\n",
       "  </tbody>\n",
       "</table>\n",
       "</div>"
      ],
      "text/plain": [
       "        VIR_CERT_NUMBER STATION_NUM ANALYZER_NUM INSPECTOR_NUM  \\\n",
       "99859         5053210.0       IR277         W094       2627911   \n",
       "313048        7610529.0       IS407         W102      AC083899   \n",
       "318309        7740581.0       IS498         W028      AC084941   \n",
       "45063         4604724.0       IS212         W111      33191251   \n",
       "271567        6973938.0       IS364         W061      AC084367   \n",
       "\n",
       "                TEST_SDATE          TEST_EDATE                VIN VIN_SOURCE  \\\n",
       "99859  2006-11-29 07:49:00 2006-11-29 07:55:00  0F1AC4222PB200660          S   \n",
       "313048 2016-05-22 13:14:00 2016-05-22 13:15:00  0FMCU93158KD84024          S   \n",
       "318309 2016-10-29 15:30:00 2016-10-29 15:31:00  0N1BC11E69L466681          S   \n",
       "45063  2005-05-20 16:13:00 2005-05-20 16:19:00  0N8AR05SXVW181282          S   \n",
       "271567 2013-07-13 15:03:00 2013-07-13 15:05:00  0S4BP62C377301194          S   \n",
       "\n",
       "       VEH_LICENSE  GVW_TYPE  GVWR  MODEL_YEAR    MAKE       MODEL CYL  \\\n",
       "99859       HNX846       1.0  3000        1993  SUBARU      LOYALE   4   \n",
       "313048      MYK742       1.0  3375        2008    FORD      ESCAPE   6   \n",
       "318309      LBX368       1.0     0        2009  NISSAN       VERSA   4   \n",
       "45063       153JWZ       1.0  4850        1997  NISSAN  PATHFINDER   6   \n",
       "271567      LBP806       1.0  3875        2007  SUBARU     OUTBACK   4   \n",
       "\n",
       "        ENGINE_SIZE TRANS_TYPE DUAL_EXHAUST  ODOMETER FUEL_TYPE  VEHICLE_TYPE  \\\n",
       "99859          1800          M            N    128300         G             1   \n",
       "313048         3000          A            N    112414         G             4   \n",
       "318309         1800          A            N    122304         G             1   \n",
       "45063          3300          A            N     90478         G             4   \n",
       "271567         2500          A            N     93475         G             2   \n",
       "\n",
       "       ZIP_CODE CERTIFICATION   ESC  VRT_RECORD_ID  ABORT_CODE  \\\n",
       "99859     87102             F   5.0         930227         NaN   \n",
       "313048    87111             C  20.0              0         NaN   \n",
       "318309    87121             C   6.0              0         NaN   \n",
       "45063     87112             F  20.0         970357         NaN   \n",
       "271567    87114             C   6.0              0         NaN   \n",
       "\n",
       "        SOFTWARE_VERSION  INSP_COMMENTS OVERALL_RESULT ABORT_CODE_OTHER_DESC  \\\n",
       "99859                158            NaN              P                   NaN   \n",
       "313048               503            NaN              P                   NaN   \n",
       "318309               503            NaN              P                   NaN   \n",
       "45063                147            NaN              P                   NaN   \n",
       "271567               501            NaN              P                   NaN   \n",
       "\n",
       "       MECHANIC_LAST_NAME MECHANIC_FIRST_NAME MECHANIC_MIDDLE_INIT  \\\n",
       "99859              TRUDEN               LOUIS                    A   \n",
       "313048                Lee             William                    D   \n",
       "318309        BUTTERWORTH             QUENTIN                    R   \n",
       "45063             CROWSON                GARY                    L   \n",
       "271567              Ewing             Anthony                    M   \n",
       "\n",
       "       ENGINE_SIZE_ORIG VID_TEST_TYPE  AGE  NUM_VISITS  NUM_FAIL  NUM_PASS  \n",
       "99859               NaN             I   14           1       0.0       1.0  \n",
       "313048              NaN             I    9           1       0.0       1.0  \n",
       "318309             1.8L             I    8           1       0.0       1.0  \n",
       "45063               NaN             I    9           1       0.0       1.0  \n",
       "271567              NaN             I    7           1       0.0       1.0  "
      ]
     },
     "execution_count": 34,
     "metadata": {},
     "output_type": "execute_result"
    }
   ],
   "source": [
    "df3.head()"
   ]
  },
  {
   "cell_type": "code",
   "execution_count": 35,
   "metadata": {},
   "outputs": [
    {
     "name": "stderr",
     "output_type": "stream",
     "text": [
      "C:\\Users\\Caitlin\\AppData\\Roaming\\Python\\Python37\\site-packages\\ipykernel_launcher.py:2: SettingWithCopyWarning: \n",
      "A value is trying to be set on a copy of a slice from a DataFrame.\n",
      "Try using .loc[row_indexer,col_indexer] = value instead\n",
      "\n",
      "See the caveats in the documentation: http://pandas.pydata.org/pandas-docs/stable/user_guide/indexing.html#returning-a-view-versus-a-copy\n",
      "  \n"
     ]
    }
   ],
   "source": [
    "# add proportion pass\n",
    "df3['PROP_PASS'] = df3['NUM_PASS']/df3['NUM_VISITS']"
   ]
  },
  {
   "cell_type": "code",
   "execution_count": 36,
   "metadata": {},
   "outputs": [
    {
     "data": {
      "text/plain": [
       "<matplotlib.axes._subplots.AxesSubplot at 0x9541fad0c8>"
      ]
     },
     "execution_count": 36,
     "metadata": {},
     "output_type": "execute_result"
    },
    {
     "data": {
      "image/png": "[encoded data removed]",
      "text/plain": [
       "<Figure size 432x288 with 1 Axes>"
      ]
     },
     "metadata": {
      "needs_background": "light"
     },
     "output_type": "display_data"
    }
   ],
   "source": [
    "sns.scatterplot(x='AGE', y='NUM_VISITS', s=100, alpha=.1, data=df3)"
   ]
  },
  {
   "cell_type": "code",
   "execution_count": 37,
   "metadata": {},
   "outputs": [
    {
     "data": {
      "text/plain": [
       "<matplotlib.axes._subplots.AxesSubplot at 0x9540c583c8>"
      ]
     },
     "execution_count": 37,
     "metadata": {},
     "output_type": "execute_result"
    },
    {
     "data": {
      "image/png": "[encoded data removed]",
      "text/plain": [
       "<Figure size 432x288 with 1 Axes>"
      ]
     },
     "metadata": {
      "needs_background": "light"
     },
     "output_type": "display_data"
    }
   ],
   "source": [
    "sns.scatterplot(x='AGE', y='NUM_PASS', s=100, alpha=.1, data=df3)"
   ]
  },
  {
   "cell_type": "code",
   "execution_count": 38,
   "metadata": {},
   "outputs": [
    {
     "data": {
      "text/plain": [
       "<matplotlib.axes._subplots.AxesSubplot at 0x95408ee348>"
      ]
     },
     "execution_count": 38,
     "metadata": {},
     "output_type": "execute_result"
    },
    {
     "data": {
      "image/png": "[encoded data removed]",
      "text/plain": [
       "<Figure size 432x288 with 1 Axes>"
      ]
     },
     "metadata": {
      "needs_background": "light"
     },
     "output_type": "display_data"
    }
   ],
   "source": [
    "sns.scatterplot(x='NUM_VISITS', y='NUM_PASS', s=100, data=df3)"
   ]
  },
  {
   "cell_type": "code",
   "execution_count": 39,
   "metadata": {},
   "outputs": [
    {
     "data": {
      "text/plain": [
       "<matplotlib.axes._subplots.AxesSubplot at 0x95408f7e08>"
      ]
     },
     "execution_count": 39,
     "metadata": {},
     "output_type": "execute_result"
    },
    {
     "data": {
      "image/png": "[encoded data removed]",
      "text/plain": [
       "<Figure size 432x288 with 1 Axes>"
      ]
     },
     "metadata": {
      "needs_background": "light"
     },
     "output_type": "display_data"
    }
   ],
   "source": [
    "sns.distplot(df3['NUM_VISITS'], kde=False)"
   ]
  },
  {
   "cell_type": "code",
   "execution_count": 40,
   "metadata": {},
   "outputs": [
    {
     "data": {
      "text/plain": [
       "<matplotlib.axes._subplots.AxesSubplot at 0x953f260208>"
      ]
     },
     "execution_count": 40,
     "metadata": {},
     "output_type": "execute_result"
    },
    {
     "data": {
      "image/png": "[encoded data removed]",
      "text/plain": [
       "<Figure size 432x288 with 1 Axes>"
      ]
     },
     "metadata": {
      "needs_background": "light"
     },
     "output_type": "display_data"
    }
   ],
   "source": [
    "sns.distplot(df3['PROP_PASS'], kde=False)"
   ]
  },
  {
   "cell_type": "code",
   "execution_count": 42,
   "metadata": {},
   "outputs": [
    {
     "data": {
      "text/plain": [
       "<matplotlib.axes._subplots.AxesSubplot at 0x953c8ed2c8>"
      ]
     },
     "execution_count": 42,
     "metadata": {},
     "output_type": "execute_result"
    },
    {
     "data": {
      "image/png": "[encoded data removed]",
      "text/plain": [
       "<Figure size 1008x432 with 1 Axes>"
      ]
     },
     "metadata": {
      "needs_background": "light"
     },
     "output_type": "display_data"
    }
   ],
   "source": [
    "fig, ax = plt.subplots(figsize=(14,6))\n",
    "df[df['NUM_VISITS']==1].groupby('AGE').size().plot.bar()"
   ]
  },
  {
   "cell_type": "markdown",
   "metadata": {},
   "source": [
    "The cars who have only been checked once tend to be newer cars, although we do see some older cars. The older cars are likely used cars from outside Bernalillo county. \n",
    "\n",
    "Important to note is the nearly expontential decline in age."
   ]
  },
  {
   "cell_type": "code",
   "execution_count": 43,
   "metadata": {},
   "outputs": [
    {
     "data": {
      "text/plain": [
       "<matplotlib.axes._subplots.AxesSubplot at 0x953b2734c8>"
      ]
     },
     "execution_count": 43,
     "metadata": {},
     "output_type": "execute_result"
    },
    {
     "data": {
      "image/png": "[encoded data removed]",
      "text/plain": [
       "<Figure size 1008x432 with 1 Axes>"
      ]
     },
     "metadata": {
      "needs_background": "light"
     },
     "output_type": "display_data"
    }
   ],
   "source": [
    "fig, ax = plt.subplots(figsize=(14,6))\n",
    "df[df['NUM_VISITS']>1].groupby('AGE').size().plot.bar()"
   ]
  },
  {
   "cell_type": "markdown",
   "metadata": {},
   "source": [
    "With the cars that have been tested more than once, we see that they follow the same distribution as when they were all combined."
   ]
  },
  {
   "cell_type": "code",
   "execution_count": null,
   "metadata": {},
   "outputs": [],
   "source": []
  },
  {
   "cell_type": "code",
   "execution_count": null,
   "metadata": {},
   "outputs": [],
   "source": []
  },
  {
   "cell_type": "code",
   "execution_count": 44,
   "metadata": {},
   "outputs": [],
   "source": [
    "# Want to plot age of the car with how many times it has been tested. \n",
    "# x = number of times tested\n",
    "# y = age\n",
    "# how to get number of times tested? \n",
    "# test = df_nonunique_vins['VIN'].value_counts()\n",
    "\n"
   ]
  }
 ],
 "metadata": {
  "colab": {
   "collapsed_sections": [],
   "name": "more_eda.ipynb",
   "provenance": [],
   "toc_visible": true
  },
  "kernelspec": {
   "display_name": "Python 3",
   "language": "python",
   "name": "python3"
  },
  "language_info": {
   "codemirror_mode": {
    "name": "ipython",
    "version": 3
   },
   "file_extension": ".py",
   "mimetype": "text/x-python",
   "name": "python",
   "nbconvert_exporter": "python",
   "pygments_lexer": "ipython3",
   "version": "3.7.6"
  }
 },
 "nbformat": 4,
 "nbformat_minor": 1
}
